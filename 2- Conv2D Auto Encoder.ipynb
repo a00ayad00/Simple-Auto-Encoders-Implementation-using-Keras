{
  "nbformat": 4,
  "nbformat_minor": 0,
  "metadata": {
    "colab": {
      "provenance": [],
      "gpuType": "T4"
    },
    "kernelspec": {
      "name": "python3",
      "display_name": "Python 3"
    },
    "language_info": {
      "name": "python"
    },
    "accelerator": "GPU"
  },
  "cells": [
    {
      "cell_type": "markdown",
      "source": [
        "# Dataset"
      ],
      "metadata": {
        "id": "atVl1T5T9SSD"
      }
    },
    {
      "cell_type": "code",
      "execution_count": 1,
      "metadata": {
        "id": "VYVY2X--n-bz"
      },
      "outputs": [],
      "source": [
        "from keras.datasets import mnist\n",
        "import matplotlib.pyplot as plt"
      ]
    },
    {
      "cell_type": "code",
      "source": [
        "(X_train, y_train), (X_test, y_test) = mnist.load_data()"
      ],
      "metadata": {
        "id": "TbnkPY1-9n90"
      },
      "execution_count": 2,
      "outputs": []
    },
    {
      "cell_type": "code",
      "source": [
        "X_train.shape"
      ],
      "metadata": {
        "colab": {
          "base_uri": "https://localhost:8080/"
        },
        "id": "_Ec_c55u9u2r",
        "outputId": "e27bce42-c74a-455b-e38d-82b9e27dd73c"
      },
      "execution_count": 3,
      "outputs": [
        {
          "output_type": "execute_result",
          "data": {
            "text/plain": [
              "(60000, 28, 28)"
            ]
          },
          "metadata": {},
          "execution_count": 3
        }
      ]
    },
    {
      "cell_type": "code",
      "source": [
        "def show(img):\n",
        "    plt.imshow(img, cmap = 'gray')\n",
        "    plt.axis('off')\n",
        "    plt.show()"
      ],
      "metadata": {
        "id": "KzoekaYu9w_u"
      },
      "execution_count": 4,
      "outputs": []
    },
    {
      "cell_type": "code",
      "source": [
        "show(X_train[0])"
      ],
      "metadata": {
        "colab": {
          "base_uri": "https://localhost:8080/",
          "height": 406
        },
        "id": "RSxOWTsLQiXp",
        "outputId": "a55d9080-7d3e-4c84-ad30-d5f2b3da1a60"
      },
      "execution_count": 5,
      "outputs": [
        {
          "output_type": "display_data",
          "data": {
            "text/plain": [
              "<Figure size 640x480 with 1 Axes>"
            ],
            "image/png": "[encoded data removed]"
          },
          "metadata": {}
        }
      ]
    },
    {
      "cell_type": "code",
      "source": [
        "X_train = X_train / 255.0\n",
        "X_test = X_test / 255.0"
      ],
      "metadata": {
        "id": "y_RSxquG-Jn0"
      },
      "execution_count": 6,
      "outputs": []
    },
    {
      "cell_type": "code",
      "source": [
        "X_train = X_train.reshape(X_train.shape[0], 28, 28, 1)\n",
        "X_test = X_test.reshape(X_test.shape[0], 28, 28, 1)\n",
        "X_train.shape"
      ],
      "metadata": {
        "colab": {
          "base_uri": "https://localhost:8080/"
        },
        "id": "k6PcO0-S-MWD",
        "outputId": "a8a144e3-3ddc-46d7-e3e0-d9f0cf8b50fc"
      },
      "execution_count": 7,
      "outputs": [
        {
          "output_type": "execute_result",
          "data": {
            "text/plain": [
              "(60000, 28, 28, 1)"
            ]
          },
          "metadata": {},
          "execution_count": 7
        }
      ]
    },
    {
      "cell_type": "markdown",
      "source": [
        "# Model"
      ],
      "metadata": {
        "id": "X1H5fLoc9fW3"
      }
    },
    {
      "cell_type": "code",
      "source": [
        "from keras.models import Model\n",
        "from keras.layers import Conv2D, MaxPool2D, UpSampling2D, Input"
      ],
      "metadata": {
        "id": "zV_TPegA9gnZ"
      },
      "execution_count": 11,
      "outputs": []
    },
    {
      "cell_type": "code",
      "source": [
        "input_layer = Input(shape = (28, 28, 1))\n",
        "\n",
        "# encoder\n",
        "x = Conv2D(16, 3, activation = 'relu', padding = 'same')(input_layer)\n",
        "x = MaxPool2D(padding='same')(x)\n",
        "\n",
        "x = Conv2D(8, 3, activation = 'relu', padding = 'same')(x)\n",
        "x = MaxPool2D(padding='same')(x)\n",
        "\n",
        "x = Conv2D(8, 3, activation = 'relu', padding = 'same')(x)\n",
        "encoded = MaxPool2D(padding='same')(x)"
      ],
      "metadata": {
        "id": "-S3QM5Z2-mW9"
      },
      "execution_count": 15,
      "outputs": []
    },
    {
      "cell_type": "code",
      "source": [
        "# decoder\n",
        "x = Conv2D(8, 3, activation = 'relu', padding = 'same')(encoded)\n",
        "x = UpSampling2D()(x)\n",
        "\n",
        "x = Conv2D(8, 3, activation = 'relu', padding = 'same')(x)\n",
        "x = UpSampling2D()(x)\n",
        "\n",
        "x = Conv2D(16, 3, activation = 'relu')(x)\n",
        "x = UpSampling2D()(x)\n",
        "\n",
        "decoded = Conv2D(1, 3, activation = 'relu', padding = 'same')(x)"
      ],
      "metadata": {
        "id": "EBElz-QfAwgu"
      },
      "execution_count": 16,
      "outputs": []
    },
    {
      "cell_type": "code",
      "source": [
        "autoencoder = Model(input_layer, decoded)\n",
        "autoencoder.summary()"
      ],
      "metadata": {
        "colab": {
          "base_uri": "https://localhost:8080/"
        },
        "id": "xs0HTiVeBZJx",
        "outputId": "2216e610-d6c2-4325-b54d-689ebac288fb"
      },
      "execution_count": 17,
      "outputs": [
        {
          "output_type": "stream",
          "name": "stdout",
          "text": [
            "Model: \"model_2\"\n",
            "_________________________________________________________________\n",
            " Layer (type)                Output Shape              Param #   \n",
            "=================================================================\n",
            " input_3 (InputLayer)        [(None, 28, 28, 1)]       0         \n",
            "                                                                 \n",
            " conv2d_15 (Conv2D)          (None, 28, 28, 16)        160       \n",
            "                                                                 \n",
            " max_pooling2d_6 (MaxPoolin  (None, 14, 14, 16)        0         \n",
            " g2D)                                                            \n",
            "                                                                 \n",
            " conv2d_16 (Conv2D)          (None, 14, 14, 8)         1160      \n",
            "                                                                 \n",
            " max_pooling2d_7 (MaxPoolin  (None, 7, 7, 8)           0         \n",
            " g2D)                                                            \n",
            "                                                                 \n",
            " conv2d_17 (Conv2D)          (None, 7, 7, 8)           584       \n",
            "                                                                 \n",
            " max_pooling2d_8 (MaxPoolin  (None, 4, 4, 8)           0         \n",
            " g2D)                                                            \n",
            "                                                                 \n",
            " conv2d_18 (Conv2D)          (None, 4, 4, 8)           584       \n",
            "                                                                 \n",
            " up_sampling2d_6 (UpSamplin  (None, 8, 8, 8)           0         \n",
            " g2D)                                                            \n",
            "                                                                 \n",
            " conv2d_19 (Conv2D)          (None, 8, 8, 8)           584       \n",
            "                                                                 \n",
            " up_sampling2d_7 (UpSamplin  (None, 16, 16, 8)         0         \n",
            " g2D)                                                            \n",
            "                                                                 \n",
            " conv2d_20 (Conv2D)          (None, 14, 14, 16)        1168      \n",
            "                                                                 \n",
            " up_sampling2d_8 (UpSamplin  (None, 28, 28, 16)        0         \n",
            " g2D)                                                            \n",
            "                                                                 \n",
            " conv2d_21 (Conv2D)          (None, 28, 28, 1)         145       \n",
            "                                                                 \n",
            "=================================================================\n",
            "Total params: 4385 (17.13 KB)\n",
            "Trainable params: 4385 (17.13 KB)\n",
            "Non-trainable params: 0 (0.00 Byte)\n",
            "_________________________________________________________________\n"
          ]
        }
      ]
    },
    {
      "cell_type": "markdown",
      "source": [
        "# Training"
      ],
      "metadata": {
        "id": "5_xwjR689hRt"
      }
    },
    {
      "cell_type": "code",
      "source": [
        "autoencoder.compile(loss = 'binary_crossentropy', optimizer = 'adam')"
      ],
      "metadata": {
        "id": "jzsUWxbxBd8u"
      },
      "execution_count": 18,
      "outputs": []
    },
    {
      "cell_type": "code",
      "source": [
        "history = autoencoder.fit(X_train, X_train, epochs=33, batch_size = 128, validation_data=(X_test, X_test))"
      ],
      "metadata": {
        "colab": {
          "base_uri": "https://localhost:8080/"
        },
        "id": "iM4xxcvIBkR4",
        "outputId": "12c7777a-64a4-4d4d-82c4-c8efa34a87c1"
      },
      "execution_count": 20,
      "outputs": [
        {
          "output_type": "stream",
          "name": "stdout",
          "text": [
            "Epoch 1/33\n",
            "469/469 [==============================] - 13s 8ms/step - loss: 0.2237 - val_loss: 0.1982\n",
            "Epoch 2/33\n",
            "469/469 [==============================] - 3s 7ms/step - loss: 0.1959 - val_loss: 0.1847\n",
            "Epoch 3/33\n",
            "469/469 [==============================] - 3s 6ms/step - loss: 0.2155 - val_loss: 0.1997\n",
            "Epoch 4/33\n",
            "469/469 [==============================] - 3s 6ms/step - loss: 0.2105 - val_loss: 0.2083\n",
            "Epoch 5/33\n",
            "469/469 [==============================] - 4s 8ms/step - loss: 0.1941 - val_loss: 0.1866\n",
            "Epoch 6/33\n",
            "469/469 [==============================] - 4s 8ms/step - loss: 0.2055 - val_loss: 0.1994\n",
            "Epoch 7/33\n",
            "469/469 [==============================] - 5s 11ms/step - loss: 0.1832 - val_loss: 0.1728\n",
            "Epoch 8/33\n",
            "469/469 [==============================] - 4s 9ms/step - loss: 0.1880 - val_loss: 0.1716\n",
            "Epoch 9/33\n",
            "469/469 [==============================] - 5s 10ms/step - loss: 0.1733 - val_loss: 0.1676\n",
            "Epoch 10/33\n",
            "469/469 [==============================] - 3s 7ms/step - loss: 0.1948 - val_loss: 0.2096\n",
            "Epoch 11/33\n",
            "469/469 [==============================] - 4s 8ms/step - loss: 0.1695 - val_loss: 0.1598\n",
            "Epoch 12/33\n",
            "469/469 [==============================] - 3s 6ms/step - loss: 0.1635 - val_loss: 0.1647\n",
            "Epoch 13/33\n",
            "469/469 [==============================] - 3s 6ms/step - loss: 0.1562 - val_loss: 0.1498\n",
            "Epoch 14/33\n",
            "469/469 [==============================] - 3s 7ms/step - loss: 0.1681 - val_loss: 0.1596\n",
            "Epoch 15/33\n",
            "469/469 [==============================] - 4s 8ms/step - loss: 0.1631 - val_loss: 0.1872\n",
            "Epoch 16/33\n",
            "469/469 [==============================] - 3s 7ms/step - loss: 0.1677 - val_loss: 0.2343\n",
            "Epoch 17/33\n",
            "469/469 [==============================] - 3s 7ms/step - loss: 0.1732 - val_loss: 0.1551\n",
            "Epoch 18/33\n",
            "469/469 [==============================] - 3s 6ms/step - loss: 0.1558 - val_loss: 0.1540\n",
            "Epoch 19/33\n",
            "469/469 [==============================] - 4s 8ms/step - loss: 0.1506 - val_loss: 0.1441\n",
            "Epoch 20/33\n",
            "469/469 [==============================] - 3s 7ms/step - loss: 0.1649 - val_loss: 0.1494\n",
            "Epoch 21/33\n",
            "469/469 [==============================] - 3s 6ms/step - loss: 0.1563 - val_loss: 0.1648\n",
            "Epoch 22/33\n",
            "469/469 [==============================] - 4s 8ms/step - loss: 0.1538 - val_loss: 0.1556\n",
            "Epoch 23/33\n",
            "469/469 [==============================] - 3s 7ms/step - loss: 0.1709 - val_loss: 0.1639\n",
            "Epoch 24/33\n",
            "469/469 [==============================] - 3s 7ms/step - loss: 0.1534 - val_loss: 0.1455\n",
            "Epoch 25/33\n",
            "469/469 [==============================] - 3s 6ms/step - loss: 0.1463 - val_loss: 0.1395\n",
            "Epoch 26/33\n",
            "469/469 [==============================] - 4s 8ms/step - loss: 0.1456 - val_loss: 0.1649\n",
            "Epoch 27/33\n",
            "469/469 [==============================] - 3s 6ms/step - loss: 0.1507 - val_loss: 0.1608\n",
            "Epoch 28/33\n",
            "469/469 [==============================] - 3s 6ms/step - loss: 0.1832 - val_loss: 0.1989\n",
            "Epoch 29/33\n",
            "469/469 [==============================] - 3s 6ms/step - loss: 0.1610 - val_loss: 0.1918\n",
            "Epoch 30/33\n",
            "469/469 [==============================] - 4s 8ms/step - loss: 0.1731 - val_loss: 0.1607\n",
            "Epoch 31/33\n",
            "469/469 [==============================] - 3s 6ms/step - loss: 0.1486 - val_loss: 0.1544\n",
            "Epoch 32/33\n",
            "469/469 [==============================] - 3s 7ms/step - loss: 0.1446 - val_loss: 0.1407\n",
            "Epoch 33/33\n",
            "469/469 [==============================] - 3s 6ms/step - loss: 0.1647 - val_loss: 0.1665\n"
          ]
        }
      ]
    },
    {
      "cell_type": "markdown",
      "source": [
        "# Prediction"
      ],
      "metadata": {
        "id": "ViLotRend1xe"
      }
    },
    {
      "cell_type": "code",
      "source": [
        "encoder = Model(input_layer, encoded)\n",
        "encoder.summary()"
      ],
      "metadata": {
        "colab": {
          "base_uri": "https://localhost:8080/"
        },
        "id": "husMZuFGBpv2",
        "outputId": "520f54e0-377d-4e7e-ac0c-aa4a55f51094"
      },
      "execution_count": 21,
      "outputs": [
        {
          "output_type": "stream",
          "name": "stdout",
          "text": [
            "Model: \"model_3\"\n",
            "_________________________________________________________________\n",
            " Layer (type)                Output Shape              Param #   \n",
            "=================================================================\n",
            " input_3 (InputLayer)        [(None, 28, 28, 1)]       0         \n",
            "                                                                 \n",
            " conv2d_15 (Conv2D)          (None, 28, 28, 16)        160       \n",
            "                                                                 \n",
            " max_pooling2d_6 (MaxPoolin  (None, 14, 14, 16)        0         \n",
            " g2D)                                                            \n",
            "                                                                 \n",
            " conv2d_16 (Conv2D)          (None, 14, 14, 8)         1160      \n",
            "                                                                 \n",
            " max_pooling2d_7 (MaxPoolin  (None, 7, 7, 8)           0         \n",
            " g2D)                                                            \n",
            "                                                                 \n",
            " conv2d_17 (Conv2D)          (None, 7, 7, 8)           584       \n",
            "                                                                 \n",
            " max_pooling2d_8 (MaxPoolin  (None, 4, 4, 8)           0         \n",
            " g2D)                                                            \n",
            "                                                                 \n",
            "=================================================================\n",
            "Total params: 1904 (7.44 KB)\n",
            "Trainable params: 1904 (7.44 KB)\n",
            "Non-trainable params: 0 (0.00 Byte)\n",
            "_________________________________________________________________\n"
          ]
        }
      ]
    },
    {
      "cell_type": "code",
      "source": [
        "decoder_input = Input(shape = (4,4,8))\n",
        "\n",
        "decoder = autoencoder.layers[7](decoder_input)\n",
        "for layer in autoencoder.layers[8:]:\n",
        "    decoder = layer(decoder)\n",
        "\n",
        "decoder = Model(decoder_input, decoder)\n",
        "decoder.summary()"
      ],
      "metadata": {
        "colab": {
          "base_uri": "https://localhost:8080/"
        },
        "id": "ZAmw128FZV7x",
        "outputId": "50ec5e32-e9a0-434d-990f-36ac90e582d6"
      },
      "execution_count": 22,
      "outputs": [
        {
          "output_type": "stream",
          "name": "stdout",
          "text": [
            "Model: \"model_4\"\n",
            "_________________________________________________________________\n",
            " Layer (type)                Output Shape              Param #   \n",
            "=================================================================\n",
            " input_4 (InputLayer)        [(None, 4, 4, 8)]         0         \n",
            "                                                                 \n",
            " conv2d_18 (Conv2D)          (None, 4, 4, 8)           584       \n",
            "                                                                 \n",
            " up_sampling2d_6 (UpSamplin  (None, 8, 8, 8)           0         \n",
            " g2D)                                                            \n",
            "                                                                 \n",
            " conv2d_19 (Conv2D)          (None, 8, 8, 8)           584       \n",
            "                                                                 \n",
            " up_sampling2d_7 (UpSamplin  (None, 16, 16, 8)         0         \n",
            " g2D)                                                            \n",
            "                                                                 \n",
            " conv2d_20 (Conv2D)          (None, 14, 14, 16)        1168      \n",
            "                                                                 \n",
            " up_sampling2d_8 (UpSamplin  (None, 28, 28, 16)        0         \n",
            " g2D)                                                            \n",
            "                                                                 \n",
            " conv2d_21 (Conv2D)          (None, 28, 28, 1)         145       \n",
            "                                                                 \n",
            "=================================================================\n",
            "Total params: 2481 (9.69 KB)\n",
            "Trainable params: 2481 (9.69 KB)\n",
            "Non-trainable params: 0 (0.00 Byte)\n",
            "_________________________________________________________________\n"
          ]
        }
      ]
    },
    {
      "cell_type": "code",
      "source": [
        "encoded_images = encoder.predict(X_test)\n",
        "encoded_images.shape\n"
      ],
      "metadata": {
        "colab": {
          "base_uri": "https://localhost:8080/"
        },
        "id": "TCNeGsBYZWgq",
        "outputId": "1e983383-21cc-4d8e-cb46-ac09cf24bec1"
      },
      "execution_count": 23,
      "outputs": [
        {
          "output_type": "stream",
          "name": "stdout",
          "text": [
            "313/313 [==============================] - 1s 2ms/step\n"
          ]
        },
        {
          "output_type": "execute_result",
          "data": {
            "text/plain": [
              "(10000, 4, 4, 8)"
            ]
          },
          "metadata": {},
          "execution_count": 23
        }
      ]
    },
    {
      "cell_type": "code",
      "source": [
        "decoded_images = decoder.predict(encoded_images)\n",
        "decoded_images.shape"
      ],
      "metadata": {
        "colab": {
          "base_uri": "https://localhost:8080/"
        },
        "id": "zm3lAOACZhHo",
        "outputId": "9aea9c25-4d5d-4c7b-9600-204e6831551e"
      },
      "execution_count": 25,
      "outputs": [
        {
          "output_type": "stream",
          "name": "stdout",
          "text": [
            "313/313 [==============================] - 1s 3ms/step\n"
          ]
        },
        {
          "output_type": "execute_result",
          "data": {
            "text/plain": [
              "(10000, 28, 28, 1)"
            ]
          },
          "metadata": {},
          "execution_count": 25
        }
      ]
    },
    {
      "cell_type": "code",
      "source": [
        "decoded_images = decoded_images.reshape(decoded_images.shape[0], 28, 28)\n",
        "decoded_images.shape"
      ],
      "metadata": {
        "colab": {
          "base_uri": "https://localhost:8080/"
        },
        "id": "Kj9F5FmWZhlT",
        "outputId": "ade02b7d-06cc-4ce1-cc87-358e38741d9e"
      },
      "execution_count": 26,
      "outputs": [
        {
          "output_type": "execute_result",
          "data": {
            "text/plain": [
              "(10000, 28, 28)"
            ]
          },
          "metadata": {},
          "execution_count": 26
        }
      ]
    },
    {
      "cell_type": "code",
      "source": [
        "show(decoded_images[1])"
      ],
      "metadata": {
        "colab": {
          "base_uri": "https://localhost:8080/",
          "height": 406
        },
        "id": "yQQa28ctZnj0",
        "outputId": "8d02c90c-9778-4017-bd08-0b61b6d74ccc"
      },
      "execution_count": 27,
      "outputs": [
        {
          "output_type": "display_data",
          "data": {
            "text/plain": [
              "<Figure size 640x480 with 1 Axes>"
            ],
            "image/png": "[encoded data removed]"
          },
          "metadata": {}
        }
      ]
    },
    {
      "cell_type": "code",
      "source": [],
      "metadata": {
        "id": "jl-dZsZCZq1J"
      },
      "execution_count": null,
      "outputs": []
    },
    {
      "cell_type": "code",
      "source": [],
      "metadata": {
        "id": "cZ89XzVY9ijd"
      },
      "execution_count": null,
      "outputs": []
    }
  ]
}