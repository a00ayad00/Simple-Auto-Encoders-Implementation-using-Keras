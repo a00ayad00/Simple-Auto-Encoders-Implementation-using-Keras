{
  "nbformat": 4,
  "nbformat_minor": 0,
  "metadata": {
    "colab": {
      "provenance": [],
      "gpuType": "T4"
    },
    "kernelspec": {
      "name": "python3",
      "display_name": "Python 3"
    },
    "language_info": {
      "name": "python"
    },
    "accelerator": "GPU"
  },
  "cells": [
    {
      "cell_type": "markdown",
      "source": [
        "# Dataset"
      ],
      "metadata": {
        "id": "oJuYMLWeiKMl"
      }
    },
    {
      "cell_type": "code",
      "source": [
        "from keras.datasets import mnist\n",
        "import matplotlib.pyplot as plt"
      ],
      "metadata": {
        "id": "7k_97GskhJpa"
      },
      "execution_count": 28,
      "outputs": []
    },
    {
      "cell_type": "code",
      "source": [
        "(X_train, y_train), (X_test, y_test) = mnist.load_data()"
      ],
      "metadata": {
        "id": "bzq2qSQviPEs"
      },
      "execution_count": 29,
      "outputs": []
    },
    {
      "cell_type": "code",
      "source": [
        "X_train.shape"
      ],
      "metadata": {
        "colab": {
          "base_uri": "https://localhost:8080/"
        },
        "id": "qOqS6yTFibCU",
        "outputId": "9e8ad12c-d363-4da0-91a9-1d4b0008b82c"
      },
      "execution_count": 30,
      "outputs": [
        {
          "output_type": "execute_result",
          "data": {
            "text/plain": [
              "(60000, 28, 28)"
            ]
          },
          "metadata": {},
          "execution_count": 30
        }
      ]
    },
    {
      "cell_type": "code",
      "source": [
        "X_test.shape"
      ],
      "metadata": {
        "id": "Vh573_ewaFQV",
        "colab": {
          "base_uri": "https://localhost:8080/"
        },
        "outputId": "253adbcc-00ce-423a-efd8-f6e7efd72afb"
      },
      "execution_count": 31,
      "outputs": [
        {
          "output_type": "execute_result",
          "data": {
            "text/plain": [
              "(10000, 28, 28)"
            ]
          },
          "metadata": {},
          "execution_count": 31
        }
      ]
    },
    {
      "cell_type": "code",
      "source": [
        "def show(img):\n",
        "    plt.imshow(img)\n",
        "    plt.axis('off')\n",
        "    plt.show()"
      ],
      "metadata": {
        "id": "LaNVViAaifmy"
      },
      "execution_count": 32,
      "outputs": []
    },
    {
      "cell_type": "code",
      "source": [
        "show(X_train[0])"
      ],
      "metadata": {
        "colab": {
          "base_uri": "https://localhost:8080/",
          "height": 0
        },
        "id": "WjZA6aH4jMnb",
        "outputId": "fc816c8c-e11c-403e-df20-02e820f7334c"
      },
      "execution_count": 33,
      "outputs": [
        {
          "output_type": "display_data",
          "data": {
            "text/plain": [
              "<Figure size 640x480 with 1 Axes>"
            ],
            "image/png": "[encoded data removed]"
          },
          "metadata": {}
        }
      ]
    },
    {
      "cell_type": "code",
      "source": [
        "X_train = X_train.reshape(X_train.shape[0], 28*28)\n",
        "X_test = X_test.reshape(X_test.shape[0], 28*28)\n",
        "print(X_train.shape, X_test.shape)"
      ],
      "metadata": {
        "colab": {
          "base_uri": "https://localhost:8080/"
        },
        "id": "6UX6MCpCiiFu",
        "outputId": "e63760cb-c576-4215-904c-9745390b8c6c"
      },
      "execution_count": 34,
      "outputs": [
        {
          "output_type": "stream",
          "name": "stdout",
          "text": [
            "(60000, 784) (10000, 784)\n"
          ]
        }
      ]
    },
    {
      "cell_type": "code",
      "source": [
        "X_train.dtype"
      ],
      "metadata": {
        "colab": {
          "base_uri": "https://localhost:8080/"
        },
        "id": "sKP6rCPykYXe",
        "outputId": "f76470a5-0bb2-4363-b036-3166179091c4"
      },
      "execution_count": 35,
      "outputs": [
        {
          "output_type": "execute_result",
          "data": {
            "text/plain": [
              "dtype('uint8')"
            ]
          },
          "metadata": {},
          "execution_count": 35
        }
      ]
    },
    {
      "cell_type": "code",
      "source": [
        "X_train = X_train / 255.0\n",
        "X_test = X_test / 255.0"
      ],
      "metadata": {
        "id": "eoFgaFOyMJJY"
      },
      "execution_count": 36,
      "outputs": []
    },
    {
      "cell_type": "markdown",
      "source": [
        "# Model"
      ],
      "metadata": {
        "id": "XqapqLjplO1s"
      }
    },
    {
      "cell_type": "code",
      "source": [
        "from keras.models import Model\n",
        "from keras.layers import Dense, Input"
      ],
      "metadata": {
        "id": "qOSt8NChlZYS"
      },
      "execution_count": 37,
      "outputs": []
    },
    {
      "cell_type": "code",
      "source": [
        "input = Input(shape = (X_train.shape[1]))\n",
        "bottleneck = Dense(32, activation = 'relu', name = 'bottleneck')(input)\n",
        "output = Dense(X_train.shape[1], activation = 'sigmoid', name = 'output')(bottleneck)"
      ],
      "metadata": {
        "id": "SsAda_slMJHZ"
      },
      "execution_count": 38,
      "outputs": []
    },
    {
      "cell_type": "code",
      "source": [
        "autoencoder = Model(input, output)\n",
        "autoencoder.summary()"
      ],
      "metadata": {
        "id": "eVuMpex2MJFD",
        "colab": {
          "base_uri": "https://localhost:8080/"
        },
        "outputId": "220e0130-a419-421f-fa08-eb898012cfdc"
      },
      "execution_count": 40,
      "outputs": [
        {
          "output_type": "stream",
          "name": "stdout",
          "text": [
            "Model: \"model\"\n",
            "_________________________________________________________________\n",
            " Layer (type)                Output Shape              Param #   \n",
            "=================================================================\n",
            " input_1 (InputLayer)        [(None, 784)]             0         \n",
            "                                                                 \n",
            " bottleneck (Dense)          (None, 32)                25120     \n",
            "                                                                 \n",
            " output (Dense)              (None, 784)               25872     \n",
            "                                                                 \n",
            "=================================================================\n",
            "Total params: 50992 (199.19 KB)\n",
            "Trainable params: 50992 (199.19 KB)\n",
            "Non-trainable params: 0 (0.00 Byte)\n",
            "_________________________________________________________________\n"
          ]
        }
      ]
    },
    {
      "cell_type": "code",
      "source": [
        "encoder = Model(input, bottleneck)\n",
        "encoder.summary()"
      ],
      "metadata": {
        "id": "jQWQa9PeMJC7",
        "colab": {
          "base_uri": "https://localhost:8080/"
        },
        "outputId": "9e3385bd-4f0d-42a1-a6b3-028e7c1830a9"
      },
      "execution_count": 41,
      "outputs": [
        {
          "output_type": "stream",
          "name": "stdout",
          "text": [
            "Model: \"model_1\"\n",
            "_________________________________________________________________\n",
            " Layer (type)                Output Shape              Param #   \n",
            "=================================================================\n",
            " input_1 (InputLayer)        [(None, 784)]             0         \n",
            "                                                                 \n",
            " bottleneck (Dense)          (None, 32)                25120     \n",
            "                                                                 \n",
            "=================================================================\n",
            "Total params: 25120 (98.12 KB)\n",
            "Trainable params: 25120 (98.12 KB)\n",
            "Non-trainable params: 0 (0.00 Byte)\n",
            "_________________________________________________________________\n"
          ]
        }
      ]
    },
    {
      "cell_type": "code",
      "source": [
        "decoder_input = Input(shape = (32,))\n",
        "decoder_layer = autoencoder.layers[-1]\n",
        "decoder = Model(decoder_input, decoder_layer(decoder_input))\n",
        "decoder.summary()"
      ],
      "metadata": {
        "id": "VaKAZc9EMJAb",
        "colab": {
          "base_uri": "https://localhost:8080/"
        },
        "outputId": "bc4250a0-81f1-4c2c-903a-2aa68f925613"
      },
      "execution_count": 42,
      "outputs": [
        {
          "output_type": "stream",
          "name": "stdout",
          "text": [
            "Model: \"model_2\"\n",
            "_________________________________________________________________\n",
            " Layer (type)                Output Shape              Param #   \n",
            "=================================================================\n",
            " input_2 (InputLayer)        [(None, 32)]              0         \n",
            "                                                                 \n",
            " output (Dense)              (None, 784)               25872     \n",
            "                                                                 \n",
            "=================================================================\n",
            "Total params: 25872 (101.06 KB)\n",
            "Trainable params: 25872 (101.06 KB)\n",
            "Non-trainable params: 0 (0.00 Byte)\n",
            "_________________________________________________________________\n"
          ]
        }
      ]
    },
    {
      "cell_type": "markdown",
      "source": [
        "# Training and Eval"
      ],
      "metadata": {
        "id": "uLE2p3VombIS"
      }
    },
    {
      "cell_type": "code",
      "source": [
        "autoencoder.compile(loss = 'mse', optimizer = 'adam')\n",
        "history = autoencoder.fit(X_train, X_train, epochs=18, batch_size = 128)"
      ],
      "metadata": {
        "id": "o0OipwtjMI8f",
        "colab": {
          "base_uri": "https://localhost:8080/"
        },
        "outputId": "a8f54043-227f-4ec5-cc0e-914900ab7111"
      },
      "execution_count": 43,
      "outputs": [
        {
          "output_type": "stream",
          "name": "stdout",
          "text": [
            "Epoch 1/18\n",
            "469/469 [==============================] - 4s 3ms/step - loss: 0.0548\n",
            "Epoch 2/18\n",
            "469/469 [==============================] - 2s 4ms/step - loss: 0.0258\n",
            "Epoch 3/18\n",
            "469/469 [==============================] - 2s 4ms/step - loss: 0.0186\n",
            "Epoch 4/18\n",
            "469/469 [==============================] - 2s 4ms/step - loss: 0.0151\n",
            "Epoch 5/18\n",
            "469/469 [==============================] - 1s 3ms/step - loss: 0.0130\n",
            "Epoch 6/18\n",
            "469/469 [==============================] - 1s 3ms/step - loss: 0.0118\n",
            "Epoch 7/18\n",
            "469/469 [==============================] - 2s 4ms/step - loss: 0.0113\n",
            "Epoch 8/18\n",
            "469/469 [==============================] - 1s 3ms/step - loss: 0.0110\n",
            "Epoch 9/18\n",
            "469/469 [==============================] - 1s 3ms/step - loss: 0.0108\n",
            "Epoch 10/18\n",
            "469/469 [==============================] - 1s 3ms/step - loss: 0.0106\n",
            "Epoch 11/18\n",
            "469/469 [==============================] - 2s 3ms/step - loss: 0.0105\n",
            "Epoch 12/18\n",
            "469/469 [==============================] - 3s 5ms/step - loss: 0.0105\n",
            "Epoch 13/18\n",
            "469/469 [==============================] - 1s 3ms/step - loss: 0.0104\n",
            "Epoch 14/18\n",
            "469/469 [==============================] - 3s 6ms/step - loss: 0.0104\n",
            "Epoch 15/18\n",
            "469/469 [==============================] - 2s 5ms/step - loss: 0.0103\n",
            "Epoch 16/18\n",
            "469/469 [==============================] - 3s 6ms/step - loss: 0.0103\n",
            "Epoch 17/18\n",
            "469/469 [==============================] - 4s 8ms/step - loss: 0.0103\n",
            "Epoch 18/18\n",
            "469/469 [==============================] - 2s 5ms/step - loss: 0.0102\n"
          ]
        }
      ]
    },
    {
      "cell_type": "code",
      "source": [
        "history.history.keys()"
      ],
      "metadata": {
        "colab": {
          "base_uri": "https://localhost:8080/"
        },
        "id": "bIsFxlIqms-Z",
        "outputId": "a6090481-9bed-48e9-ebde-14e214434473"
      },
      "execution_count": 44,
      "outputs": [
        {
          "output_type": "execute_result",
          "data": {
            "text/plain": [
              "dict_keys(['loss'])"
            ]
          },
          "metadata": {},
          "execution_count": 44
        }
      ]
    },
    {
      "cell_type": "code",
      "source": [
        "plt.plot(history.history['loss'])"
      ],
      "metadata": {
        "colab": {
          "base_uri": "https://localhost:8080/",
          "height": 447
        },
        "id": "pi0niBb0mkaa",
        "outputId": "230864fa-76b3-4e0e-9684-8a755715098e"
      },
      "execution_count": 45,
      "outputs": [
        {
          "output_type": "execute_result",
          "data": {
            "text/plain": [
              "[<matplotlib.lines.Line2D at 0x7d873c37a350>]"
            ]
          },
          "metadata": {},
          "execution_count": 45
        },
        {
          "output_type": "display_data",
          "data": {
            "text/plain": [
              "<Figure size 640x480 with 1 Axes>"
            ],
            "image/png": "[encoded data removed]"
          },
          "metadata": {}
        }
      ]
    },
    {
      "cell_type": "code",
      "source": [
        "encoded_data = encoder.predict(X_test, batch_size=512)\n",
        "encoded_data.shape"
      ],
      "metadata": {
        "id": "mxcD4lNIMIzX",
        "colab": {
          "base_uri": "https://localhost:8080/"
        },
        "outputId": "b02559c2-6734-4c4f-8619-066d2210979b"
      },
      "execution_count": 46,
      "outputs": [
        {
          "output_type": "stream",
          "name": "stdout",
          "text": [
            "20/20 [==============================] - 0s 4ms/step\n"
          ]
        },
        {
          "output_type": "execute_result",
          "data": {
            "text/plain": [
              "(10000, 32)"
            ]
          },
          "metadata": {},
          "execution_count": 46
        }
      ]
    },
    {
      "cell_type": "code",
      "source": [
        "output_data = decoder.predict(encoded_data, batch_size=512)\n",
        "output_data.shape"
      ],
      "metadata": {
        "colab": {
          "base_uri": "https://localhost:8080/"
        },
        "id": "DifIFs7xm8ah",
        "outputId": "5f337042-bb6a-4a4f-d310-f25d4fe6c473"
      },
      "execution_count": 47,
      "outputs": [
        {
          "output_type": "stream",
          "name": "stdout",
          "text": [
            "20/20 [==============================] - 0s 2ms/step\n"
          ]
        },
        {
          "output_type": "execute_result",
          "data": {
            "text/plain": [
              "(10000, 784)"
            ]
          },
          "metadata": {},
          "execution_count": 47
        }
      ]
    },
    {
      "cell_type": "code",
      "source": [
        "output_data = output_data.reshape(output_data.shape[0], 28, 28)\n",
        "output_data.shape"
      ],
      "metadata": {
        "colab": {
          "base_uri": "https://localhost:8080/"
        },
        "id": "eEzJYVWInDhd",
        "outputId": "05bdab11-8f75-4801-80d6-e91aae76ce21"
      },
      "execution_count": 48,
      "outputs": [
        {
          "output_type": "execute_result",
          "data": {
            "text/plain": [
              "(10000, 28, 28)"
            ]
          },
          "metadata": {},
          "execution_count": 48
        }
      ]
    },
    {
      "cell_type": "code",
      "source": [
        "show(output_data[0])\n"
      ],
      "metadata": {
        "colab": {
          "base_uri": "https://localhost:8080/",
          "height": 406
        },
        "id": "3-QTF8LFnUwa",
        "outputId": "e2331cd0-7eab-43bd-ac6c-006460877b06"
      },
      "execution_count": 49,
      "outputs": [
        {
          "output_type": "display_data",
          "data": {
            "text/plain": [
              "<Figure size 640x480 with 1 Axes>"
            ],
            "image/png": "[encoded data removed]"
          },
          "metadata": {}
        }
      ]
    },
    {
      "cell_type": "code",
      "source": [
        "X_test = X_test.reshape(10000, 28, 28)\n",
        "X_test.shape"
      ],
      "metadata": {
        "colab": {
          "base_uri": "https://localhost:8080/"
        },
        "id": "vTfOOuiZnenU",
        "outputId": "2f0ee5fe-8280-4b4f-8841-7db7fdf429b8"
      },
      "execution_count": 50,
      "outputs": [
        {
          "output_type": "execute_result",
          "data": {
            "text/plain": [
              "(10000, 28, 28)"
            ]
          },
          "metadata": {},
          "execution_count": 50
        }
      ]
    },
    {
      "cell_type": "code",
      "source": [
        "show(X_test[0])"
      ],
      "metadata": {
        "colab": {
          "base_uri": "https://localhost:8080/",
          "height": 406
        },
        "id": "-8SIsDNZnfIj",
        "outputId": "8889b74c-10e1-4b9f-bb68-16c4034c11e8"
      },
      "execution_count": 51,
      "outputs": [
        {
          "output_type": "display_data",
          "data": {
            "text/plain": [
              "<Figure size 640x480 with 1 Axes>"
            ],
            "image/png": "[encoded data removed]"
          },
          "metadata": {}
        }
      ]
    }
  ]
}